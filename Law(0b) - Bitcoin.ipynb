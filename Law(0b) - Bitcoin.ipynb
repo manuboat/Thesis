{
 "cells": [
  {
   "cell_type": "code",
   "execution_count": 1,
   "metadata": {},
   "outputs": [],
   "source": [
    "import pandas as pd\n",
    "import numpy as np\n",
    "import matplotlib.pyplot as plt\n",
    "import datetime\n",
    "\n",
    "import plotly.plotly as py\n",
    "import plotly.graph_objs as go\n",
    "\n",
    "import requests\n",
    "\n",
    "from utils import utils_v2\n",
    "plt.rcParams['figure.figsize'] = (15, 7) \n",
    "%matplotlib inline\n",
    "%load_ext autoreload\n",
    "%autoreload"
   ]
  },
  {
   "cell_type": "code",
   "execution_count": 2,
   "metadata": {},
   "outputs": [],
   "source": [
    "threshold_array = np.logspace(np.log10(0.0001),np.log10(0.0505),250)\n",
    "threshold_array_pct = np.logspace(np.log10(0.01),np.log10(5.05),250)"
   ]
  },
  {
   "cell_type": "code",
   "execution_count": 3,
   "metadata": {},
   "outputs": [],
   "source": [
    "data = pd.read_csv('coinbaseUSD_1-min_data_2014-12-01_to_2018-06-27.csv')\n",
    "\n",
    "data['timestamp'] = pd.to_datetime(data['Timestamp'],unit='s')\n",
    "data.drop('Timestamp',axis=1,inplace = True)\n",
    "data['Date'] = data.timestamp.dt.date\n",
    "data = data.set_index('timestamp');\n",
    "#date = '2017'    \n",
    "stock_series = data.loc['2014 Dec 2':'2018 Jun 26']['Weighted_Price']\n",
    "  \n"
   ]
  },
  {
   "cell_type": "code",
   "execution_count": 4,
   "metadata": {},
   "outputs": [],
   "source": [
    "N_DC_array = []\n",
    "\n",
    "for value in threshold_array:\n",
    "    DCA, CPA = utils_v2.get_events(stock_series,threshold = value)\n",
    "    N_DC_array.append(len(DCA))"
   ]
  },
  {
   "cell_type": "code",
   "execution_count": 5,
   "metadata": {},
   "outputs": [
    {
     "data": {
      "text/plain": [
       "-7003276547.899328"
      ]
     },
     "execution_count": 5,
     "metadata": {},
     "output_type": "execute_result"
    }
   ],
   "source": [
    "from sklearn import linear_model\n",
    "\n",
    "lm = linear_model.LinearRegression()\n",
    "model = lm.fit(threshold_array_pct.reshape(250,1),np.array(N_DC_array).reshape(250,1))\n",
    "\n",
    "predictions = lm.predict(threshold_array_pct.reshape(250,1))\n",
    "\n",
    "lm.score(predictions,np.array(N_DC_array).reshape(250,1))"
   ]
  },
  {
   "cell_type": "code",
   "execution_count": 6,
   "metadata": {},
   "outputs": [
    {
     "data": {
      "text/html": [
       "<iframe id=\"igraph\" scrolling=\"no\" style=\"border:none;\" seamless=\"seamless\" src=\"https://plot.ly/~manuel.morais/209.embed\" height=\"525px\" width=\"100%\"></iframe>"
      ],
      "text/plain": [
       "<plotly.tools.PlotlyDisplay object>"
      ]
     },
     "execution_count": 6,
     "metadata": {},
     "output_type": "execute_result"
    }
   ],
   "source": [
    "trace1 = go.Scatter(\n",
    "    x=threshold_array_pct,\n",
    "    y=N_DC_array,\n",
    "    mode='markers',\n",
    "    line=dict(\n",
    "        color='rgb(250,0,0)'\n",
    "    )\n",
    ")\n",
    "\n",
    "trace2 = go.Scatter(\n",
    "    x=threshold_array_pct,\n",
    "    y=(threshold_array_pct.reshape(250,1)/5.430)**(-2.178),\n",
    "    mode='markers',\n",
    "    line=dict(\n",
    "        color='rgb(0,250,0)'\n",
    "    )\n",
    ")\n",
    "\n",
    "data = [trace1, trace2]\n",
    "\n",
    "layout = go.Layout(\n",
    "    xaxis=dict(\n",
    "        type='log',\n",
    "        autorange=True\n",
    "    ),\n",
    "    yaxis=dict(   \n",
    "        type='log',\n",
    "        autorange=True\n",
    "    )\n",
    ")\n",
    "fig = go.Figure(data=data, layout=layout)\n",
    "py.iplot(fig, filename='text', fileopt='append')"
   ]
  },
  {
   "cell_type": "code",
   "execution_count": null,
   "metadata": {},
   "outputs": [],
   "source": []
  }
 ],
 "metadata": {
  "kernelspec": {
   "display_name": "Python 3",
   "language": "python",
   "name": "python3"
  },
  "language_info": {
   "codemirror_mode": {
    "name": "ipython",
    "version": 3
   },
   "file_extension": ".py",
   "mimetype": "text/x-python",
   "name": "python",
   "nbconvert_exporter": "python",
   "pygments_lexer": "ipython3",
   "version": "3.5.5"
  }
 },
 "nbformat": 4,
 "nbformat_minor": 2
}
