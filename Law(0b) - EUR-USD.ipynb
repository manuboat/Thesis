{
 "cells": [
  {
   "cell_type": "code",
   "execution_count": 31,
   "metadata": {},
   "outputs": [
    {
     "name": "stdout",
     "output_type": "stream",
     "text": [
      "The autoreload extension is already loaded. To reload it, use:\n",
      "  %reload_ext autoreload\n"
     ]
    }
   ],
   "source": [
    "import pandas as pd\n",
    "import numpy as np\n",
    "import matplotlib.pyplot as plt\n",
    "import datetime\n",
    "\n",
    "import plotly.plotly as py\n",
    "import plotly.graph_objs as go\n",
    "\n",
    "import requests\n",
    "\n",
    "from utils import utils_v2\n",
    "plt.rcParams['figure.figsize'] = (15, 7) \n",
    "%matplotlib inline\n",
    "%load_ext autoreload\n",
    "%autoreload"
   ]
  },
  {
   "cell_type": "code",
   "execution_count": 32,
   "metadata": {},
   "outputs": [],
   "source": [
    "threshold_array = np.logspace(np.log10(0.0001),np.log10(0.0505),250)\n",
    "threshold_array_pct = np.logspace(np.log10(0.01),np.log10(5.05),250)"
   ]
  },
  {
   "cell_type": "code",
   "execution_count": 33,
   "metadata": {},
   "outputs": [],
   "source": [
    "data = pd.read_csv('EURUSD_15m_BID_01.01.2010-31.12.2016.csv')"
   ]
  },
  {
   "cell_type": "code",
   "execution_count": 34,
   "metadata": {},
   "outputs": [],
   "source": [
    "data['Timestamp'] = pd.to_datetime(data['Time'])\n",
    "data.drop('Time',axis=1,inplace = True)\n",
    "data = data.set_index('Timestamp');"
   ]
  },
  {
   "cell_type": "code",
   "execution_count": 35,
   "metadata": {},
   "outputs": [],
   "source": [
    "#date = ''2010 Jan 1':'2016 Dec 31''    \n",
    "stock_series = data.loc['2010 Jan 1':'2016 Dec 31']['Close']"
   ]
  },
  {
   "cell_type": "code",
   "execution_count": 36,
   "metadata": {},
   "outputs": [
    {
     "data": {
      "image/png": "[encoded data removed]",
      "text/plain": [
       "<Figure size 936x360 with 1 Axes>"
      ]
     },
     "metadata": {},
     "output_type": "display_data"
    }
   ],
   "source": [
    "stock_series.plot(figsize=(13,5));"
   ]
  },
  {
   "cell_type": "code",
   "execution_count": 37,
   "metadata": {},
   "outputs": [],
   "source": [
    "threshold_array = np.logspace(np.log10(0.0001),np.log10(0.0505),250)\n",
    "threshold_array_pct = np.logspace(np.log10(0.01),np.log10(5.05),250)"
   ]
  },
  {
   "cell_type": "code",
   "execution_count": 38,
   "metadata": {},
   "outputs": [],
   "source": [
    "N_DC_array = []\n",
    "\n",
    "for value in threshold_array:\n",
    "    DCA, CPA = utils_v2.get_events(stock_series,threshold = value)\n",
    "    N_DC_array.append(len(DCA))"
   ]
  },
  {
   "cell_type": "code",
   "execution_count": 39,
   "metadata": {},
   "outputs": [
    {
     "data": {
      "text/plain": [
       "-92655175.00352138"
      ]
     },
     "execution_count": 39,
     "metadata": {},
     "output_type": "execute_result"
    }
   ],
   "source": [
    "from sklearn import linear_model\n",
    "\n",
    "lm = linear_model.LinearRegression()\n",
    "model = lm.fit(threshold_array_pct.reshape(250,1),np.array(N_DC_array).reshape(250,1))\n",
    "\n",
    "predictions = lm.predict(threshold_array_pct.reshape(250,1))\n",
    "\n",
    "lm.score(predictions,np.array(N_DC_array).reshape(250,1))"
   ]
  },
  {
   "cell_type": "code",
   "execution_count": 40,
   "metadata": {},
   "outputs": [
    {
     "data": {
      "text/plain": [
       "array([[-10089.29377232]])"
      ]
     },
     "execution_count": 40,
     "metadata": {},
     "output_type": "execute_result"
    }
   ],
   "source": [
    "model.coef_"
   ]
  },
  {
   "cell_type": "code",
   "execution_count": 41,
   "metadata": {},
   "outputs": [
    {
     "data": {
      "text/plain": [
       "array([27024.49103586])"
      ]
     },
     "execution_count": 41,
     "metadata": {},
     "output_type": "execute_result"
    }
   ],
   "source": [
    "model.intercept_"
   ]
  },
  {
   "cell_type": "code",
   "execution_count": 30,
   "metadata": {},
   "outputs": [
    {
     "data": {
      "text/html": [
       "<iframe id=\"igraph\" scrolling=\"no\" style=\"border:none;\" seamless=\"seamless\" src=\"https://plot.ly/~manuel.morais/209.embed\" height=\"525px\" width=\"100%\"></iframe>"
      ],
      "text/plain": [
       "<plotly.tools.PlotlyDisplay object>"
      ]
     },
     "execution_count": 30,
     "metadata": {},
     "output_type": "execute_result"
    }
   ],
   "source": [
    "trace1 = go.Scatter(\n",
    "    x=threshold_array_pct,\n",
    "    y=N_DC_array,\n",
    "    mode='markers',\n",
    "    line=dict(\n",
    "        color='rgb(250,0,0)'\n",
    "    )\n",
    ")\n",
    "\n",
    "trace2 = go.Scatter(\n",
    "    x=threshold_array_pct,\n",
    "    y=(threshold_array_pct.reshape(250,1)/5.430)**(-2.178),\n",
    "    mode='markers',\n",
    "    line=dict(\n",
    "        color='rgb(0,250,0)'\n",
    "    )\n",
    ")\n",
    "\n",
    "trace3 = go.Scatter(\n",
    "    x=threshold_array_pct,\n",
    "    y=np.exp(-2.178*np.log(threshold_array_pct)+2.178*np.log(5.430)),\n",
    "    mode='markers',\n",
    "    line=dict(\n",
    "        color='rgb(0,0,250)'\n",
    "    )\n",
    ")\n",
    "\n",
    "dt = [trace1, trace2, trace3]\n",
    "\n",
    "layout = go.Layout(\n",
    "    xaxis=dict(\n",
    "        type='log',\n",
    "        autorange=True\n",
    "    ),\n",
    "    yaxis=dict(\n",
    "        type='log',\n",
    "        autorange=True\n",
    "    )\n",
    ")\n",
    "fig = go.Figure(data=dt, layout=layout)\n",
    "py.iplot(fig, filename='text')"
   ]
  },
  {
   "cell_type": "code",
   "execution_count": 48,
   "metadata": {},
   "outputs": [
    {
     "data": {
      "image/png": "[encoded data removed]",
      "text/plain": [
       "<Figure size 1080x504 with 1 Axes>"
      ]
     },
     "metadata": {},
     "output_type": "display_data"
    }
   ],
   "source": [
    "plt.rcParams['figure.figsize'] = (15, 7) \n",
    "plt.scatter(np.arange(0,250),threshold_array_pct); \n",
    "plt.scatter(np.arange(0,250),np.linspace(0.01,5.05,250));"
   ]
  },
  {
   "cell_type": "code",
   "execution_count": 49,
   "metadata": {},
   "outputs": [
    {
     "data": {
      "text/plain": [
       "-2.0"
      ]
     },
     "execution_count": 49,
     "metadata": {},
     "output_type": "execute_result"
    }
   ],
   "source": [
    "np.log10(0.01)"
   ]
  },
  {
   "cell_type": "code",
   "execution_count": 50,
   "metadata": {},
   "outputs": [
    {
     "data": {
      "text/plain": [
       "0.7032913781186614"
      ]
     },
     "execution_count": 50,
     "metadata": {},
     "output_type": "execute_result"
    }
   ],
   "source": [
    "np.log10(5.05)"
   ]
  },
  {
   "cell_type": "code",
   "execution_count": 54,
   "metadata": {},
   "outputs": [
    {
     "data": {
      "text/plain": [
       "array([0.01      , 0.03024096, 0.05048193, 0.07072289, 0.09096386,\n",
       "       0.11120482, 0.13144578, 0.15168675, 0.17192771, 0.19216867,\n",
       "       0.21240964, 0.2326506 , 0.25289157, 0.27313253, 0.29337349,\n",
       "       0.31361446, 0.33385542, 0.35409639, 0.37433735, 0.39457831,\n",
       "       0.41481928, 0.43506024, 0.4553012 , 0.47554217, 0.49578313,\n",
       "       0.5160241 , 0.53626506, 0.55650602, 0.57674699, 0.59698795,\n",
       "       0.61722892, 0.63746988, 0.65771084, 0.67795181, 0.69819277,\n",
       "       0.71843373, 0.7386747 , 0.75891566, 0.77915663, 0.79939759,\n",
       "       0.81963855, 0.83987952, 0.86012048, 0.88036145, 0.90060241,\n",
       "       0.92084337, 0.94108434, 0.9613253 , 0.98156627, 1.00180723,\n",
       "       1.02204819, 1.04228916, 1.06253012, 1.08277108, 1.10301205,\n",
       "       1.12325301, 1.14349398, 1.16373494, 1.1839759 , 1.20421687,\n",
       "       1.22445783, 1.2446988 , 1.26493976, 1.28518072, 1.30542169,\n",
       "       1.32566265, 1.34590361, 1.36614458, 1.38638554, 1.40662651,\n",
       "       1.42686747, 1.44710843, 1.4673494 , 1.48759036, 1.50783133,\n",
       "       1.52807229, 1.54831325, 1.56855422, 1.58879518, 1.60903614,\n",
       "       1.62927711, 1.64951807, 1.66975904, 1.69      , 1.71024096,\n",
       "       1.73048193, 1.75072289, 1.77096386, 1.79120482, 1.81144578,\n",
       "       1.83168675, 1.85192771, 1.87216867, 1.89240964, 1.9126506 ,\n",
       "       1.93289157, 1.95313253, 1.97337349, 1.99361446, 2.01385542,\n",
       "       2.03409639, 2.05433735, 2.07457831, 2.09481928, 2.11506024,\n",
       "       2.1353012 , 2.15554217, 2.17578313, 2.1960241 , 2.21626506,\n",
       "       2.23650602, 2.25674699, 2.27698795, 2.29722892, 2.31746988,\n",
       "       2.33771084, 2.35795181, 2.37819277, 2.39843373, 2.4186747 ,\n",
       "       2.43891566, 2.45915663, 2.47939759, 2.49963855, 2.51987952,\n",
       "       2.54012048, 2.56036145, 2.58060241, 2.60084337, 2.62108434,\n",
       "       2.6413253 , 2.66156627, 2.68180723, 2.70204819, 2.72228916,\n",
       "       2.74253012, 2.76277108, 2.78301205, 2.80325301, 2.82349398,\n",
       "       2.84373494, 2.8639759 , 2.88421687, 2.90445783, 2.9246988 ,\n",
       "       2.94493976, 2.96518072, 2.98542169, 3.00566265, 3.02590361,\n",
       "       3.04614458, 3.06638554, 3.08662651, 3.10686747, 3.12710843,\n",
       "       3.1473494 , 3.16759036, 3.18783133, 3.20807229, 3.22831325,\n",
       "       3.24855422, 3.26879518, 3.28903614, 3.30927711, 3.32951807,\n",
       "       3.34975904, 3.37      , 3.39024096, 3.41048193, 3.43072289,\n",
       "       3.45096386, 3.47120482, 3.49144578, 3.51168675, 3.53192771,\n",
       "       3.55216867, 3.57240964, 3.5926506 , 3.61289157, 3.63313253,\n",
       "       3.65337349, 3.67361446, 3.69385542, 3.71409639, 3.73433735,\n",
       "       3.75457831, 3.77481928, 3.79506024, 3.8153012 , 3.83554217,\n",
       "       3.85578313, 3.8760241 , 3.89626506, 3.91650602, 3.93674699,\n",
       "       3.95698795, 3.97722892, 3.99746988, 4.01771084, 4.03795181,\n",
       "       4.05819277, 4.07843373, 4.0986747 , 4.11891566, 4.13915663,\n",
       "       4.15939759, 4.17963855, 4.19987952, 4.22012048, 4.24036145,\n",
       "       4.26060241, 4.28084337, 4.30108434, 4.3213253 , 4.34156627,\n",
       "       4.36180723, 4.38204819, 4.40228916, 4.42253012, 4.44277108,\n",
       "       4.46301205, 4.48325301, 4.50349398, 4.52373494, 4.5439759 ,\n",
       "       4.56421687, 4.58445783, 4.6046988 , 4.62493976, 4.64518072,\n",
       "       4.66542169, 4.68566265, 4.70590361, 4.72614458, 4.74638554,\n",
       "       4.76662651, 4.78686747, 4.80710843, 4.8273494 , 4.84759036,\n",
       "       4.86783133, 4.88807229, 4.90831325, 4.92855422, 4.94879518,\n",
       "       4.96903614, 4.98927711, 5.00951807, 5.02975904, 5.05      ])"
      ]
     },
     "execution_count": 54,
     "metadata": {},
     "output_type": "execute_result"
    }
   ],
   "source": [
    "np.linspace(0.01,5.05,250)"
   ]
  },
  {
   "cell_type": "code",
   "execution_count": 53,
   "metadata": {},
   "outputs": [
    {
     "data": {
      "text/plain": [
       "array([0.01      , 0.01025313, 0.01051267, 0.01077878, 0.01105163,\n",
       "       0.01133138, 0.01161822, 0.01191231, 0.01221385, 0.01252303,\n",
       "       0.01284003, 0.01316505, 0.0134983 , 0.01383999, 0.01419032,\n",
       "       0.01454953, 0.01491782, 0.01529544, 0.01568262, 0.0160796 ,\n",
       "       0.01648663, 0.01690396, 0.01733185, 0.01777058, 0.01822041,\n",
       "       0.01868163, 0.01915453, 0.01963939, 0.02013653, 0.02064625,\n",
       "       0.02116887, 0.02170473, 0.02225415, 0.02281747, 0.02339506,\n",
       "       0.02398726, 0.02459446, 0.02521703, 0.02585535, 0.02650984,\n",
       "       0.02718089, 0.02786893, 0.02857438, 0.02929769, 0.03003932,\n",
       "       0.03079971, 0.03157935, 0.03237873, 0.03319834, 0.0340387 ,\n",
       "       0.03490033, 0.03578378, 0.03668958, 0.03761832, 0.03857056,\n",
       "       0.03954691, 0.04054797, 0.04157438, 0.04262676, 0.04370578,\n",
       "       0.04481212, 0.04594647, 0.04710952, 0.04830202, 0.0495247 ,\n",
       "       0.05077834, 0.0520637 , 0.05338161, 0.05473287, 0.05611834,\n",
       "       0.05753888, 0.05899538, 0.06048875, 0.06201992, 0.06358985,\n",
       "       0.06519952, 0.06684993, 0.06854213, 0.07027715, 0.0720561 ,\n",
       "       0.07388008, 0.07575023, 0.07766772, 0.07963374, 0.08164954,\n",
       "       0.08371635, 0.08583549, 0.08800827, 0.09023605, 0.09252022,\n",
       "       0.09486222, 0.09726349, 0.09972555, 0.10224994, 0.10483822,\n",
       "       0.10749202, 0.110213  , 0.11300285, 0.11586333, 0.11879621,\n",
       "       0.12180334, 0.12488658, 0.12804787, 0.13128919, 0.13461255,\n",
       "       0.13802004, 0.14151378, 0.14509596, 0.14876882, 0.15253465,\n",
       "       0.15639581, 0.1603547 , 0.16441381, 0.16857567, 0.17284287,\n",
       "       0.1772181 , 0.18170407, 0.1863036 , 0.19101956, 0.1958549 ,\n",
       "       0.20081263, 0.20589586, 0.21110777, 0.2164516 , 0.22193071,\n",
       "       0.2275485 , 0.23330851, 0.23921432, 0.24526962, 0.25147821,\n",
       "       0.25784395, 0.26437083, 0.27106293, 0.27792443, 0.28495961,\n",
       "       0.29217288, 0.29956874, 0.30715182, 0.31492684, 0.32289868,\n",
       "       0.33107231, 0.33945285, 0.34804552, 0.3568557 , 0.3658889 ,\n",
       "       0.37515075, 0.38464706, 0.39438374, 0.4043669 , 0.41460276,\n",
       "       0.42509773, 0.43585835, 0.44689137, 0.45820366, 0.46980231,\n",
       "       0.48169456, 0.49388784, 0.50638977, 0.51920817, 0.53235104,\n",
       "       0.54582661, 0.55964328, 0.5738097 , 0.58833472, 0.60322741,\n",
       "       0.61849709, 0.63415329, 0.65020581, 0.66666466, 0.68354015,\n",
       "       0.70084281, 0.71858345, 0.73677317, 0.75542333, 0.77454559,\n",
       "       0.7941519 , 0.81425451, 0.83486598, 0.85599919, 0.87766736,\n",
       "       0.89988402, 0.92266305, 0.9460187 , 0.96996556, 0.99451859,\n",
       "       1.01969314, 1.04550494, 1.07197012, 1.09910523, 1.12692721,\n",
       "       1.15545346, 1.1847018 , 1.21469052, 1.24543835, 1.2769645 ,\n",
       "       1.30928869, 1.34243111, 1.37641248, 1.41125402, 1.44697752,\n",
       "       1.4836053 , 1.52116025, 1.55966584, 1.59914613, 1.6396258 ,\n",
       "       1.68113014, 1.7236851 , 1.76731726, 1.8120539 , 1.85792297,\n",
       "       1.90495313, 1.95317379, 2.00261506, 2.05330786, 2.10528387,\n",
       "       2.15857555, 2.21321623, 2.26924004, 2.326682  , 2.385578  ,\n",
       "       2.44596486, 2.50788031, 2.57136304, 2.63645273, 2.70319006,\n",
       "       2.77161672, 2.84177549, 2.91371022, 2.98746584, 3.06308847,\n",
       "       3.14062535, 3.22012495, 3.30163695, 3.38521228, 3.47090318,\n",
       "       3.55876321, 3.64884726, 3.74121163, 3.83591405, 3.9330137 ,\n",
       "       4.03257127, 4.13464896, 4.23931058, 4.34662153, 4.45664887,\n",
       "       4.56946137, 4.68512953, 4.80372563, 4.92532379, 5.05      ])"
      ]
     },
     "execution_count": 53,
     "metadata": {},
     "output_type": "execute_result"
    }
   ],
   "source": [
    "np.logspace(np.log10(0.01),np.log10(5.05),250)"
   ]
  },
  {
   "cell_type": "code",
   "execution_count": 55,
   "metadata": {},
   "outputs": [],
   "source": [
    "a= np.geomspace(0.01,5.05,250)"
   ]
  },
  {
   "cell_type": "code",
   "execution_count": 60,
   "metadata": {},
   "outputs": [
    {
     "data": {
      "text/plain": [
       "0.01085659187999477"
      ]
     },
     "execution_count": 60,
     "metadata": {},
     "output_type": "execute_result"
    }
   ],
   "source": [
    "np.log10(a[-2])-np.log10(a[-3])"
   ]
  },
  {
   "cell_type": "code",
   "execution_count": 57,
   "metadata": {},
   "outputs": [
    {
     "data": {
      "text/plain": [
       "0.0002531330225639932"
      ]
     },
     "execution_count": 57,
     "metadata": {},
     "output_type": "execute_result"
    }
   ],
   "source": [
    "a[1]-a[0]"
   ]
  },
  {
   "cell_type": "code",
   "execution_count": 58,
   "metadata": {},
   "outputs": [
    {
     "data": {
      "text/plain": [
       "0.0002595406552752359"
      ]
     },
     "execution_count": 58,
     "metadata": {},
     "output_type": "execute_result"
    }
   ],
   "source": [
    "a[2]-a[1]"
   ]
  },
  {
   "cell_type": "code",
   "execution_count": null,
   "metadata": {},
   "outputs": [],
   "source": []
  }
 ],
 "metadata": {
  "kernelspec": {
   "display_name": "Python 3",
   "language": "python",
   "name": "python3"
  },
  "language_info": {
   "codemirror_mode": {
    "name": "ipython",
    "version": 3
   },
   "file_extension": ".py",
   "mimetype": "text/x-python",
   "name": "python",
   "nbconvert_exporter": "python",
   "pygments_lexer": "ipython3",
   "version": "3.5.5"
  }
 },
 "nbformat": 4,
 "nbformat_minor": 2
}
