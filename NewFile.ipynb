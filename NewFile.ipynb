{
 "cells": [
  {
   "cell_type": "code",
   "execution_count": 1,
   "metadata": {},
   "outputs": [
    {
     "ename": "ValueError",
     "evalue": "too many values to unpack (expected 2)",
     "output_type": "error",
     "traceback": [
      "\u001b[1;31m---------------------------------------------------------------------------\u001b[0m",
      "\u001b[1;31mValueError\u001b[0m                                Traceback (most recent call last)",
      "\u001b[1;32m<ipython-input-1-41ce0fe27419>\u001b[0m in \u001b[0;36m<module>\u001b[1;34m()\u001b[0m\n\u001b[0;32m     32\u001b[0m     \u001b[1;31m#utils_v2.plot_events(stock_series,DCA,CPA)\u001b[0m\u001b[1;33m\u001b[0m\u001b[1;33m\u001b[0m\u001b[0m\n\u001b[0;32m     33\u001b[0m \u001b[1;33m\u001b[0m\u001b[0m\n\u001b[1;32m---> 34\u001b[1;33m     \u001b[0mtable\u001b[0m\u001b[1;33m,\u001b[0m \u001b[0mOSV\u001b[0m \u001b[1;33m=\u001b[0m \u001b[0mutils_v2\u001b[0m\u001b[1;33m.\u001b[0m\u001b[0mevent_summary\u001b[0m\u001b[1;33m(\u001b[0m\u001b[0mstock_series\u001b[0m\u001b[1;33m,\u001b[0m\u001b[0mDCA\u001b[0m\u001b[1;33m,\u001b[0m\u001b[0mCPA\u001b[0m\u001b[1;33m,\u001b[0m\u001b[0mtable\u001b[0m\u001b[1;33m,\u001b[0m\u001b[0mthreshold\u001b[0m \u001b[1;33m=\u001b[0m \u001b[1;36m0.004\u001b[0m\u001b[1;33m)\u001b[0m\u001b[1;33m\u001b[0m\u001b[0m\n\u001b[0m",
      "\u001b[1;31mValueError\u001b[0m: too many values to unpack (expected 2)"
     ]
    }
   ],
   "source": [
    "import pandas as pd\n",
    "import numpy as np\n",
    "import matplotlib.pyplot as plt\n",
    "import timeit\n",
    "import datetime\n",
    "\n",
    "from utils import utils_v2\n",
    "plt.rcParams['figure.figsize'] = (15, 7) \n",
    "%matplotlib inline\n",
    "\n",
    "\n",
    "data = pd.read_csv('coinbaseUSD_1-min_data_2014-12-01_to_2018-06-27.csv')\n",
    "\n",
    "data['timestamp'] = pd.to_datetime(data['Timestamp'],unit='s')\n",
    "data.drop('Timestamp',axis=1,inplace = True)\n",
    "data['Date'] = data.timestamp.dt.date\n",
    "\n",
    "data = data.set_index('timestamp');\n",
    "\n",
    "#data['Weighted_Price'].plot(figsize=(15, 7));\n",
    "\n",
    "table = pd.DataFrame(columns=['NDC','PC','MedianOSV_overall','MedianTM_overall','MedianT_overall','MedianR_DC_overall'])\n",
    "\n",
    "for i in range(1,31):\n",
    "\n",
    "    date = '2017 Oct '+str(i)\n",
    "    \n",
    "    stock_series = data.loc[date]['Weighted_Price']\n",
    "    \n",
    "    DCA, CPA = utils_v2.get_events(stock_series,threshold = 0.004)\n",
    "    \n",
    "    #utils_v2.plot_events(stock_series,DCA,CPA)\n",
    "    \n",
    "    table, OSV = utils_v2.event_summary(stock_series,DCA,CPA,table,threshold = 0.004)"
   ]
  },
  {
   "cell_type": "code",
   "execution_count": null,
   "metadata": {},
   "outputs": [],
   "source": [
    "table"
   ]
  },
  {
   "cell_type": "code",
   "execution_count": null,
   "metadata": {},
   "outputs": [],
   "source": [
    "date = '2017 Oct 30'\n",
    "    \n",
    "stock_series = data.loc[date]['Weighted_Price']\n",
    "\n",
    "DCA, CPA = utils_v2.get_events(stock_series,threshold = 0.001)\n",
    "    \n",
    "utils_v2.plot_events(stock_series,DCA,CPA)"
   ]
  },
  {
   "cell_type": "code",
   "execution_count": null,
   "metadata": {},
   "outputs": [],
   "source": [
    "table, OSV = utils_v2.event_summary(stock_series,DCA,CPA,table,threshold = 0.004)"
   ]
  },
  {
   "cell_type": "code",
   "execution_count": null,
   "metadata": {},
   "outputs": [],
   "source": [
    "OSV\n",
    "OSV_up = [value for value in OSV if value >= 0]\n",
    "OSV_down = [value for value in OSV if value < 0]\n"
   ]
  },
  {
   "cell_type": "code",
   "execution_count": null,
   "metadata": {},
   "outputs": [],
   "source": [
    "OSV_down = pd.DataFrame(OSV_down,columns= ['OSV_down'])\n",
    "OSV_up = pd.DataFrame(OSV_up,columns= ['OSV_up'])"
   ]
  },
  {
   "cell_type": "code",
   "execution_count": null,
   "metadata": {
    "scrolled": true
   },
   "outputs": [],
   "source": [
    "OSV_DataFrame = OSV_up.describe()\n",
    "OSV_DataFrame['OSV_down'] = OSV_down.describe()"
   ]
  },
  {
   "cell_type": "code",
   "execution_count": null,
   "metadata": {},
   "outputs": [],
   "source": [
    "OSV_DataFrame"
   ]
  },
  {
   "cell_type": "code",
   "execution_count": null,
   "metadata": {},
   "outputs": [],
   "source": [
    "table.describe()"
   ]
  },
  {
   "cell_type": "code",
   "execution_count": null,
   "metadata": {},
   "outputs": [],
   "source": [
    "date = '2017 Oct 15'\n",
    "    \n",
    "stock_series = data.loc[date]['Weighted_Price']\n",
    "\n",
    "DCA, CPA = utils_v2.get_events(stock_series,threshold = 0.009)\n",
    "    \n",
    "utils_v2.plot_events(stock_series,DCA,CPA)"
   ]
  },
  {
   "cell_type": "code",
   "execution_count": null,
   "metadata": {},
   "outputs": [],
   "source": [
    "len(DCA)"
   ]
  },
  {
   "cell_type": "code",
   "execution_count": null,
   "metadata": {},
   "outputs": [],
   "source": [
    "table, OSV = utils_v2.event_summary(stock_series,DCA,CPA,table,threshold = 0.001)"
   ]
  },
  {
   "cell_type": "code",
   "execution_count": null,
   "metadata": {},
   "outputs": [],
   "source": [
    "OSV\n",
    "OSV_up = [value for value in OSV if value >= 0]\n",
    "OSV_down = [value for value in OSV if value < 0]\n"
   ]
  },
  {
   "cell_type": "code",
   "execution_count": null,
   "metadata": {},
   "outputs": [],
   "source": [
    "OSV_down = pd.DataFrame(OSV_down,columns= ['OSV_down'])\n",
    "OSV_up = pd.DataFrame(OSV_up,columns= ['OSV_up'])"
   ]
  },
  {
   "cell_type": "code",
   "execution_count": null,
   "metadata": {
    "scrolled": true
   },
   "outputs": [],
   "source": [
    "OSV_DataFrame = OSV_up.describe()\n",
    "OSV_DataFrame['OSV_down'] = OSV_down.describe()"
   ]
  },
  {
   "cell_type": "code",
   "execution_count": null,
   "metadata": {},
   "outputs": [],
   "source": [
    "OSV_DataFrame"
   ]
  },
  {
   "cell_type": "code",
   "execution_count": null,
   "metadata": {},
   "outputs": [],
   "source": [
    "OSV_up.hist(bins=15);"
   ]
  },
  {
   "cell_type": "code",
   "execution_count": null,
   "metadata": {},
   "outputs": [],
   "source": [
    "plt.boxplot(OSV_up.values);"
   ]
  },
  {
   "cell_type": "code",
   "execution_count": null,
   "metadata": {},
   "outputs": [],
   "source": [
    "values_up = []\n",
    "index_up = []\n",
    "\n",
    "values_down = []\n",
    "index_down = []\n",
    "\n",
    "if stock_series[DCA[0]] > stock_series[CPA[0]]:\n",
    "    for i in range(0,len(DCA),2):    \n",
    "                values_down.append(stock_series[DCA[i]])\n",
    "                values_down.append(stock_series[CPA[i]])\n",
    "                if i != len(DCA)-2:\n",
    "                    values_down.append(None)\n",
    "                \n",
    "                if i != len(DCA)-1: \n",
    "                    values_up.append(stock_series[DCA[i+1]])\n",
    "                    values_up.append(stock_series[CPA[i+1]])\n",
    "                    if i != len(DCA)-2:\n",
    "                        values_up.append(None)\n",
    "                    \n",
    "                index_down.append(stock_series.index[DCA[i]])\n",
    "                index_down.append(stock_series.index[CPA[i]])\n",
    "                if i != len(DCA)-2:\n",
    "                    index_down.append(None)\n",
    "                \n",
    "                if i != len(DCA)-1:\n",
    "                    index_up.append(stock_series.index[DCA[i+1]])\n",
    "                    index_up.append(stock_series.index[CPA[i+1]])\n",
    "                    if i != len(DCA)-2:\n",
    "                        index_up.append(None)\n",
    "else:\n",
    "    for i in range(0,len(DCA),2):    \n",
    "                values_up.append(stock_series[DCA[i]])\n",
    "                values_up.append(stock_series[CPA[i]])\n",
    "                if i != len(DCA)-2:\n",
    "                    values_up.append(None)\n",
    "                \n",
    "                if i != len(DCA)-1:\n",
    "                    values_down.append(stock_series[DCA[i+1]])\n",
    "                    values_down.append(stock_series[CPA[i+1]])\n",
    "                    if i != len(DCA)-2:\n",
    "                        values_down.append(None)\n",
    "                    \n",
    "                index_up.append(stock_series.index[DCA[i]])\n",
    "                index_up.append(stock_series.index[CPA[i]])\n",
    "                if i != len(DCA)-2:\n",
    "                    index_up.append(None)\n",
    "                \n",
    "                if i != len(DCA)-1:\n",
    "                    index_down.append(stock_series.index[DCA[i+1]])\n",
    "                    index_down.append(stock_series.index[CPA[i+1]])\n",
    "                    if i != len(DCA)-2:\n",
    "                        index_down.append(None)\n",
    "                "
   ]
  },
  {
   "cell_type": "code",
   "execution_count": null,
   "metadata": {},
   "outputs": [],
   "source": [
    "OS_values = []\n",
    "OS_index = []\n",
    "\n",
    "for i in range(len(DCA)):    \n",
    "            if i != len(DCA)-1:\n",
    "                OS_values.append(stock_series[CPA[i]])\n",
    "                OS_values.append(stock_series[DCA[i+1]])\n",
    "                if i != len(DCA)-2:\n",
    "                    OS_values.append(None)\n",
    "                \n",
    "            if i != len(DCA)-1:\n",
    "                OS_index.append(stock_series.index[CPA[i]])\n",
    "                OS_index.append(stock_series.index[DCA[i+1]])\n",
    "                if i != len(DCA)-2:\n",
    "                    OS_index.append(None)"
   ]
  },
  {
   "cell_type": "code",
   "execution_count": null,
   "metadata": {},
   "outputs": [],
   "source": [
    "import plotly.plotly as py\n",
    "import plotly.graph_objs as go\n",
    "\n",
    "trace_price = go.Scatter(\n",
    "         x = stock_series.index,\n",
    "         y = stock_series.values,\n",
    "         name = 'Price',\n",
    "         line = dict(\n",
    "                color = 'rgb(0,255,255)',\n",
    "                width = 1.5\n",
    "         )\n",
    "    )\n",
    "\n",
    "trace_up_trend = go.Scatter(\n",
    "         x = index_up,\n",
    "         y = values_up,\n",
    "         mode = 'lines+markers',\n",
    "         name = 'Up Turn',\n",
    "         line = dict(\n",
    "                color = 'rgb(0,255,0)' \n",
    "         )\n",
    "    )\n",
    "\n",
    "trace_down_trend = go.Scatter(\n",
    "        x = index_down,\n",
    "        y = values_down,\n",
    "        mode = 'lines+markers',\n",
    "        name = 'Down Turn',\n",
    "        line = dict(\n",
    "                color = 'rgb(255,0,0)' \n",
    "         )\n",
    "    )\n",
    "\n",
    "trace_overshoot = go.Scatter(\n",
    "         x = OS_index,\n",
    "         y = OS_values,\n",
    "         name = 'Overshoot',\n",
    "         line = dict(\n",
    "                color = 'rgb(120,120,120)',\n",
    "                dash = 'dash'\n",
    "         )\n",
    "    )\n",
    "\n",
    "    \n",
    "    \n",
    "dt = [trace_price, trace_overshoot, trace_down_trend, trace_up_trend]\n",
    "\n",
    "py.iplot(dt, filename='DC')"
   ]
  },
  {
   "cell_type": "code",
   "execution_count": null,
   "metadata": {},
   "outputs": [],
   "source": [
    "DDCstar = []\n",
    "threshold = 0.001\n",
    "    \n",
    "for i in range(len(DCA)):\n",
    "    if stock_series[DCA[i]] > stock_series[CPA[i]]:\n",
    "        DDCstar.append(stock_series[DCA[i]] * (1 - threshold))\n",
    "    else:\n",
    "        DDCstar.append(stock_series[DCA[i]] * (1 + threshold))"
   ]
  },
  {
   "cell_type": "code",
   "execution_count": null,
   "metadata": {},
   "outputs": [],
   "source": [
    "np.subtract(DDCstar[0],stock_series[CPA[0]])"
   ]
  },
  {
   "cell_type": "code",
   "execution_count": null,
   "metadata": {},
   "outputs": [],
   "source": [
    "DDCstar_time = []\n",
    "\n",
    "for i in range(len(DCA)):\n",
    "    DDCstar_time.append(np.divide(np.multiply(np.subtract(DDCstar[i],stock_series[CPA[i]-1]),np.subtract(stock_series.index[CPA[i]],stock_series.index[CPA[i]-1])),np.subtract(stock_series[CPA[i]],stock_series[CPA[i]-1]))+stock_series.index[CPA[i]-1])"
   ]
  },
  {
   "cell_type": "code",
   "execution_count": null,
   "metadata": {},
   "outputs": [],
   "source": [
    "DDCstar_time"
   ]
  },
  {
   "cell_type": "code",
   "execution_count": null,
   "metadata": {},
   "outputs": [],
   "source": [
    "trace_price = go.Scatter(\n",
    "         x = stock_series.index,\n",
    "         y = stock_series.values,\n",
    "         name = 'Price',\n",
    "         line = dict(\n",
    "                color = 'rgb(0,255,255)',\n",
    "                width = 1.5\n",
    "         )\n",
    "    )\n",
    "\n",
    "trace_up_trend = go.Scatter(\n",
    "         x = index_up,\n",
    "         y = values_up,\n",
    "         mode = 'lines+markers',\n",
    "         name = 'Up Turn',\n",
    "         line = dict(\n",
    "                color = 'rgb(0,255,0)' \n",
    "         )\n",
    "    )\n",
    "\n",
    "trace_down_trend = go.Scatter(\n",
    "        x = index_down,\n",
    "        y = values_down,\n",
    "        mode = 'lines+markers',\n",
    "        name = 'Down Turn',\n",
    "        line = dict(\n",
    "                color = 'rgb(255,0,0)' \n",
    "         )\n",
    "    )\n",
    "\n",
    "trace_overshoot = go.Scatter(\n",
    "         x = OS_index,\n",
    "         y = OS_values,\n",
    "         name = 'Overshoot',\n",
    "         line = dict(\n",
    "                color = 'rgb(120,120,120)',\n",
    "                dash = 'dash'\n",
    "         )\n",
    "    )\n",
    "\n",
    "trace_dot = go.Scatter(\n",
    "         x = DDCstar_time,\n",
    "         y = DDCstar,\n",
    "         mode = 'markers',\n",
    "         name = 'dot',\n",
    "         line = dict(\n",
    "                color = 'rgb(0,0,0)'\n",
    "         )\n",
    "    )   \n",
    "    \n",
    "dt = [trace_price, trace_overshoot, trace_down_trend, trace_up_trend, trace_dot]\n",
    "\n",
    "py.iplot(dt, filename='DC')"
   ]
  },
  {
   "cell_type": "code",
   "execution_count": null,
   "metadata": {},
   "outputs": [],
   "source": [
    "CPA[0]"
   ]
  },
  {
   "cell_type": "code",
   "execution_count": null,
   "metadata": {},
   "outputs": [],
   "source": []
  },
  {
   "cell_type": "code",
   "execution_count": null,
   "metadata": {},
   "outputs": [],
   "source": [
    "values_up = []\n",
    "index_up = []\n",
    "\n",
    "values_down = []\n",
    "index_down = []\n",
    "\n",
    "if stock_series[DCA[0]] > DDCstar[0]:\n",
    "    for i in range(0,len(DCA),2):    \n",
    "                values_down.append(stock_series[DCA[i]])\n",
    "                values_down.append(DDCstar[i])\n",
    "                if i != len(DCA)-2:\n",
    "                    values_down.append(None)\n",
    "                \n",
    "                if i != len(DCA)-1: \n",
    "                    values_up.append(stock_series[DCA[i+1]])\n",
    "                    values_up.append(DDCstar[i+1])\n",
    "                    if i != len(DCA)-2:\n",
    "                        values_up.append(None)\n",
    "                    \n",
    "                index_down.append(stock_series.index[DCA[i]])\n",
    "                index_down.append(DDCstar_time[i])\n",
    "                if i != len(DCA)-2:\n",
    "                    index_down.append(None)\n",
    "                \n",
    "                if i != len(DCA)-1:\n",
    "                    index_up.append(stock_series.index[DCA[i+1]])\n",
    "                    index_up.append(DDCstar_time[i+1])\n",
    "                    if i != len(DCA)-2:\n",
    "                        index_up.append(None)\n",
    "else:\n",
    "    for i in range(0,len(DCA),2):    \n",
    "                values_up.append(stock_series[DCA[i]])\n",
    "                values_up.append(DDCstar[i])\n",
    "                if i != len(DCA)-2:\n",
    "                    values_up.append(None)\n",
    "                \n",
    "                if i != len(DCA)-1:\n",
    "                    values_down.append(stock_series[DCA[i+1]])\n",
    "                    values_down.append(DDCstar[i+1])\n",
    "                    if i != len(DCA)-2:\n",
    "                        values_down.append(None)\n",
    "                    \n",
    "                index_up.append(stock_series.index[DCA[i]])\n",
    "                index_up.append(DDCstar_time[i])\n",
    "                if i != len(DCA)-2:\n",
    "                    index_up.append(None)\n",
    "                \n",
    "                if i != len(DCA)-1:\n",
    "                    index_down.append(stock_series.index[DCA[i+1]])\n",
    "                    index_down.append(DDCstar_time[i+1])\n",
    "                    if i != len(DCA)-2:\n",
    "                        index_down.append(None)\n",
    "                \n",
    "\n",
    "OS_values = []\n",
    "OS_index = []\n",
    "\n",
    "for i in range(len(DCA)):    \n",
    "            if i != len(DCA)-1:\n",
    "                OS_values.append(DDCstar[i])\n",
    "                OS_values.append(stock_series[DCA[i+1]])\n",
    "                if i != len(DCA)-2:\n",
    "                    OS_values.append(None)\n",
    "                \n",
    "            if i != len(DCA)-1:\n",
    "                OS_index.append(DDCstar_time[i])\n",
    "                OS_index.append(stock_series.index[DCA[i+1]])\n",
    "                if i != len(DCA)-2:\n",
    "                    OS_index.append(None)"
   ]
  },
  {
   "cell_type": "code",
   "execution_count": null,
   "metadata": {},
   "outputs": [],
   "source": [
    "trace_price = go.Scatter(\n",
    "         x = stock_series.index,\n",
    "         y = stock_series.values,\n",
    "         name = 'Price',\n",
    "         line = dict(\n",
    "                color = 'rgb(0,255,255)',\n",
    "                width = 1.5\n",
    "         )\n",
    "    )\n",
    "\n",
    "trace_up_trend = go.Scatter(\n",
    "         x = index_up,\n",
    "         y = values_up,\n",
    "         mode = 'lines+markers',\n",
    "         name = 'Up Turn',\n",
    "         line = dict(\n",
    "                color = 'rgb(0,255,0)' \n",
    "         )\n",
    "    )\n",
    "\n",
    "trace_down_trend = go.Scatter(\n",
    "        x = index_down,\n",
    "        y = values_down,\n",
    "        mode = 'lines+markers',\n",
    "        name = 'Down Turn',\n",
    "        line = dict(\n",
    "                color = 'rgb(255,0,0)' \n",
    "         )\n",
    "    )\n",
    "\n",
    "trace_overshoot = go.Scatter(\n",
    "         x = OS_index,\n",
    "         y = OS_values,\n",
    "         name = 'Overshoot',\n",
    "         line = dict(\n",
    "                color = 'rgb(120,120,120)',\n",
    "                dash = 'dash'\n",
    "         )\n",
    "    )\n",
    "\n",
    "trace_dot = go.Scatter(\n",
    "         x = DDCstar_time,\n",
    "         y = DDCstar,\n",
    "         mode = 'markers',\n",
    "         name = 'dot',\n",
    "         line = dict(\n",
    "                color = 'rgb(0,0,0)'\n",
    "         )\n",
    "    )   \n",
    "    \n",
    "dt = [trace_price, trace_overshoot, trace_down_trend, trace_up_trend,trace_dot]\n",
    "\n",
    "fig=dict(data=dt,layout=layout)\n",
    "\n",
    "py.iplot(fig, filename='DC')"
   ]
  },
  {
   "cell_type": "code",
   "execution_count": null,
   "metadata": {},
   "outputs": [],
   "source": [
    "import requests"
   ]
  },
  {
   "cell_type": "code",
   "execution_count": null,
   "metadata": {},
   "outputs": [],
   "source": [
    "r = requests.get('https://plot.ly/~manuel.morais/82.json')"
   ]
  },
  {
   "cell_type": "code",
   "execution_count": null,
   "metadata": {},
   "outputs": [],
   "source": [
    "t = r.json()"
   ]
  },
  {
   "cell_type": "code",
   "execution_count": null,
   "metadata": {},
   "outputs": [],
   "source": [
    "layout = t['layout']"
   ]
  },
  {
   "cell_type": "code",
   "execution_count": null,
   "metadata": {},
   "outputs": [],
   "source": [
    "trace_Price = go.Scatter()\n",
    "\n",
    "dt = [trace_Price]\n",
    "\n",
    "fig = dict(data=dt)\n",
    "py.iplot(fig, filename = \"DC\", fileopt='extend')"
   ]
  },
  {
   "cell_type": "code",
   "execution_count": null,
   "metadata": {},
   "outputs": [],
   "source": [
    "t['data'][0]['x']=stock_series.index\n",
    "t['data'][0]['y']=stock_series.values\n",
    "t['data'][1]['x']=OS_index\n",
    "t['data'][1]['y']=OS_values\n",
    "t['data'][2]['x']=index_down\n",
    "t['data'][2]['y']=values_down\n",
    "t['data'][3]['x']=index_up\n",
    "t['data'][3]['y']=values_up"
   ]
  },
  {
   "cell_type": "code",
   "execution_count": null,
   "metadata": {},
   "outputs": [],
   "source": [
    "fig = dict(data=t['data'],layout=t['layout'])\n",
    "py.iplot(fig, filename = \"New\")"
   ]
  },
  {
   "cell_type": "code",
   "execution_count": null,
   "metadata": {},
   "outputs": [],
   "source": [
    "updatemenus = list([\n",
    "    dict(type=\"buttons\",\n",
    "         active=-1,\n",
    "         buttons=list([\n",
    "            dict(label = 'Price',\n",
    "                 method = 'update',\n",
    "                 args = [{'visible': [True, False, False, False]}]),\n",
    "            dict(label = 'Overshoot',\n",
    "                 method = 'update',\n",
    "                 args = [{'visible': [False, True, False, False]}]),\n",
    "            dict(label = 'Down',\n",
    "                 method = 'update',\n",
    "                 args = [{'visible': [False, False, True, False]}]),\n",
    "            dict(label = 'Up',\n",
    "                 method = 'update',\n",
    "                 args = [{'visible': [False, False, False, True]}])\n",
    "        ]),\n",
    "    )\n",
    "])\n"
   ]
  },
  {
   "cell_type": "code",
   "execution_count": null,
   "metadata": {},
   "outputs": [],
   "source": [
    "t['layout']['updatemenus'] = updatemenus"
   ]
  },
  {
   "cell_type": "code",
   "execution_count": null,
   "metadata": {},
   "outputs": [],
   "source": [
    "updatemenus"
   ]
  },
  {
   "cell_type": "code",
   "execution_count": null,
   "metadata": {},
   "outputs": [],
   "source": [
    "buttons=list([    \n",
    "            dict(label = 'Overshoot',\n",
    "                 method = 'update',\n",
    "                 args = [{'visible': [False, True, False, False]}])]),\n",
    "         buttons=list([   \n",
    "            dict(label = 'Down',\n",
    "                 method = 'update',\n",
    "                 args = [{'visible': [False, False, True, False]}])]),\n",
    "         buttons=list([   \n",
    "            dict(label = 'Up',\n",
    "                 method = 'update',\n",
    "                 args = [{'visible': [False, False, False, True]}])])"
   ]
  }
 ],
 "metadata": {
  "kernelspec": {
   "display_name": "Python 3",
   "language": "python",
   "name": "python3"
  },
  "language_info": {
   "codemirror_mode": {
    "name": "ipython",
    "version": 3
   },
   "file_extension": ".py",
   "mimetype": "text/x-python",
   "name": "python",
   "nbconvert_exporter": "python",
   "pygments_lexer": "ipython3",
   "version": "3.5.5"
  }
 },
 "nbformat": 4,
 "nbformat_minor": 2
}
